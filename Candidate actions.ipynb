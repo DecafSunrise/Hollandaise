{
 "cells": [
  {
   "cell_type": "code",
   "execution_count": null,
   "id": "72fade2b",
   "metadata": {},
   "outputs": [],
   "source": []
  },
  {
   "cell_type": "code",
   "execution_count": null,
   "id": "4b58cd54",
   "metadata": {},
   "outputs": [],
   "source": [
    "was\n",
    "\n",
    "said\n",
    "told\n",
    "tweeted\n",
    "lays out\n",
    "livestreamed\n",
    "live streamed\n",
    "responded\n",
    "\n",
    "argued\n",
    "pushed back\n",
    "\n",
    "observed\n",
    "\n",
    "feeling\n",
    "thinking\n",
    "\n",
    "review\n",
    "identified\n",
    "\n",
    "replacing\n",
    "\n",
    "take\n",
    "\n",
    "plans\n",
    "designed\n",
    "\n",
    "walked back\n",
    "\n",
    "delegated\n",
    "directed\n",
    "coordinated\n",
    "arranged\n",
    "administered\n",
    "\n",
    "[is] building\n",
    "programmed\n",
    "produced\n",
    "added\n",
    "grew\n",
    "started\n",
    "staked\n",
    "\n",
    "invested\n",
    "accounted\n",
    "funding\n",
    "funded\n",
    "paid\n",
    "\n",
    "took off\n",
    "landed\n",
    "\n",
    "hiring\n",
    "let go of"
   ]
  },
  {
   "cell_type": "code",
   "execution_count": null,
   "id": "35030aeb",
   "metadata": {},
   "outputs": [],
   "source": [
    "## Next steps:\n",
    "- Bundle these verbs into intents\n",
    "- Identify a p"
   ]
  }
 ],
 "metadata": {
  "kernelspec": {
   "display_name": "NLP",
   "language": "python",
   "name": "nlp"
  },
  "language_info": {
   "codemirror_mode": {
    "name": "ipython",
    "version": 3
   },
   "file_extension": ".py",
   "mimetype": "text/x-python",
   "name": "python",
   "nbconvert_exporter": "python",
   "pygments_lexer": "ipython3",
   "version": "3.8.11"
  }
 },
 "nbformat": 4,
 "nbformat_minor": 5
}
