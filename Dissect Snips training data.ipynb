{
 "cells": [
  {
   "cell_type": "code",
   "execution_count": 1,
   "id": "33c47b97",
   "metadata": {},
   "outputs": [],
   "source": [
    "import json\n",
    "import io\n",
    "import os"
   ]
  },
  {
   "cell_type": "code",
   "execution_count": 5,
   "id": "0211a8b6",
   "metadata": {},
   "outputs": [],
   "source": [
    "with io.open(\"flights_dataset.json\") as f:\n",
    "    sample_dataset = json.load(f)"
   ]
  },
  {
   "cell_type": "code",
   "execution_count": 8,
   "id": "aedb5b02",
   "metadata": {},
   "outputs": [
    {
     "data": {
      "text/plain": [
       "dict_keys(['entities', 'intents', 'language'])"
      ]
     },
     "execution_count": 8,
     "metadata": {},
     "output_type": "execute_result"
    }
   ],
   "source": [
    "sample_dataset.keys()"
   ]
  },
  {
   "cell_type": "code",
   "execution_count": 9,
   "id": "01b34e25",
   "metadata": {},
   "outputs": [
    {
     "data": {
      "text/plain": [
       "'en'"
      ]
     },
     "execution_count": 9,
     "metadata": {},
     "output_type": "execute_result"
    }
   ],
   "source": [
    "sample_dataset['language']"
   ]
  },
  {
   "cell_type": "code",
   "execution_count": 11,
   "id": "b121e43c",
   "metadata": {},
   "outputs": [
    {
     "data": {
      "text/plain": [
       "{'locality': {'automatically_extensible': True,\n",
       "  'data': [{'value': 'djibouti', 'synonyms': []},\n",
       "   {'value': 'san francisco', 'synonyms': []},\n",
       "   {'value': 'new york city', 'synonyms': ['new york', 'big apple']}],\n",
       "  'matching_strictness': 1.0,\n",
       "  'use_synonyms': True},\n",
       " 'snips/datetime': {}}"
      ]
     },
     "execution_count": 11,
     "metadata": {},
     "output_type": "execute_result"
    }
   ],
   "source": [
    "sample_dataset['entities']"
   ]
  },
  {
   "cell_type": "code",
   "execution_count": 10,
   "id": "8baee785",
   "metadata": {},
   "outputs": [
    {
     "data": {
      "text/plain": [
       "{'bookFlight': {'utterances': [{'data': [{'text': 'Book me a flight from '},\n",
       "     {'entity': 'locality', 'slot_name': 'departure', 'text': 'Paris'},\n",
       "     {'text': ' to '},\n",
       "     {'entity': 'locality', 'slot_name': 'destination', 'text': 'London'},\n",
       "     {'text': ' '},\n",
       "     {'entity': 'snips/datetime',\n",
       "      'slot_name': 'flight_time',\n",
       "      'text': 'this weekend'}]},\n",
       "   {'data': [{'text': 'Find me an airplane for '},\n",
       "     {'entity': 'snips/datetime',\n",
       "      'slot_name': 'flight_time',\n",
       "      'text': 'next tuesday'},\n",
       "     {'text': ' to go to '},\n",
       "     {'entity': 'locality', 'slot_name': 'destination', 'text': 'Singapore'}]},\n",
       "   {'data': [{'text': 'book a flight to '},\n",
       "     {'entity': 'locality', 'slot_name': 'destination', 'text': 'moscow'},\n",
       "     {'text': ' from '},\n",
       "     {'entity': 'locality', 'slot_name': 'departure', 'text': 'istanbul'},\n",
       "     {'text': ' '},\n",
       "     {'entity': 'snips/datetime',\n",
       "      'slot_name': 'flight_time',\n",
       "      'text': 'in five days'}]},\n",
       "   {'data': [{'text': 'I need flight tickets from '},\n",
       "     {'entity': 'locality', 'slot_name': 'departure', 'text': 'new york'},\n",
       "     {'text': ' to '},\n",
       "     {'entity': 'locality', 'slot_name': 'destination', 'text': 'chicago'},\n",
       "     {'text': ' '},\n",
       "     {'entity': 'snips/datetime',\n",
       "      'slot_name': 'flight_datetime',\n",
       "      'text': 'on January 6th'}]}]},\n",
       " 'cancelFlight': {'utterances': [{'data': [{'text': 'please cancel my flight to '},\n",
       "     {'entity': 'locality', 'slot_name': 'destination', 'text': 'madrid'}]},\n",
       "   {'data': [{'text': 'Can you cancel the flight I have '},\n",
       "     {'entity': 'snips/datetime',\n",
       "      'slot_name': 'flight_time',\n",
       "      'text': 'this weekend'},\n",
       "     {'text': ' '},\n",
       "     {'text': ' ?'}]},\n",
       "   {'data': [{'text': 'I need you to cancel my flight tickets from '},\n",
       "     {'entity': 'locality', 'slot_name': 'departure', 'text': 'berlin'},\n",
       "     {'text': ' to '},\n",
       "     {'entity': 'locality', 'slot_name': 'destination', 'text': 'tokyo'},\n",
       "     {'text': ' please'}]},\n",
       "   {'data': [{'text': 'cancel '},\n",
       "     {'entity': 'snips/datetime',\n",
       "      'slot_name': 'flight_time',\n",
       "      'text': 'tomorrow'},\n",
       "     {'text': \"'s flight\"}]}]}}"
      ]
     },
     "execution_count": 10,
     "metadata": {},
     "output_type": "execute_result"
    }
   ],
   "source": [
    "sample_dataset['intents']"
   ]
  },
  {
   "cell_type": "code",
   "execution_count": 13,
   "id": "9b507a8e",
   "metadata": {},
   "outputs": [
    {
     "data": {
      "text/plain": [
       "dict_keys(['bookFlight', 'cancelFlight'])"
      ]
     },
     "execution_count": 13,
     "metadata": {},
     "output_type": "execute_result"
    }
   ],
   "source": [
    "sample_dataset['intents'].keys()"
   ]
  },
  {
   "cell_type": "code",
   "execution_count": 16,
   "id": "5396fd24",
   "metadata": {},
   "outputs": [
    {
     "data": {
      "text/plain": [
       "[{'data': [{'text': 'Book me a flight from '},\n",
       "   {'entity': 'locality', 'slot_name': 'departure', 'text': 'Paris'},\n",
       "   {'text': ' to '},\n",
       "   {'entity': 'locality', 'slot_name': 'destination', 'text': 'London'},\n",
       "   {'text': ' '},\n",
       "   {'entity': 'snips/datetime',\n",
       "    'slot_name': 'flight_time',\n",
       "    'text': 'this weekend'}]},\n",
       " {'data': [{'text': 'Find me an airplane for '},\n",
       "   {'entity': 'snips/datetime',\n",
       "    'slot_name': 'flight_time',\n",
       "    'text': 'next tuesday'},\n",
       "   {'text': ' to go to '},\n",
       "   {'entity': 'locality', 'slot_name': 'destination', 'text': 'Singapore'}]},\n",
       " {'data': [{'text': 'book a flight to '},\n",
       "   {'entity': 'locality', 'slot_name': 'destination', 'text': 'moscow'},\n",
       "   {'text': ' from '},\n",
       "   {'entity': 'locality', 'slot_name': 'departure', 'text': 'istanbul'},\n",
       "   {'text': ' '},\n",
       "   {'entity': 'snips/datetime',\n",
       "    'slot_name': 'flight_time',\n",
       "    'text': 'in five days'}]},\n",
       " {'data': [{'text': 'I need flight tickets from '},\n",
       "   {'entity': 'locality', 'slot_name': 'departure', 'text': 'new york'},\n",
       "   {'text': ' to '},\n",
       "   {'entity': 'locality', 'slot_name': 'destination', 'text': 'chicago'},\n",
       "   {'text': ' '},\n",
       "   {'entity': 'snips/datetime',\n",
       "    'slot_name': 'flight_datetime',\n",
       "    'text': 'on January 6th'}]}]"
      ]
     },
     "execution_count": 16,
     "metadata": {},
     "output_type": "execute_result"
    }
   ],
   "source": [
    "sample_dataset['intents']['bookFlight']['utterances']"
   ]
  },
  {
   "cell_type": "code",
   "execution_count": null,
   "id": "a0ef959b",
   "metadata": {},
   "outputs": [],
   "source": []
  }
 ],
 "metadata": {
  "kernelspec": {
   "display_name": "NLP",
   "language": "python",
   "name": "nlp"
  },
  "language_info": {
   "codemirror_mode": {
    "name": "ipython",
    "version": 3
   },
   "file_extension": ".py",
   "mimetype": "text/x-python",
   "name": "python",
   "nbconvert_exporter": "python",
   "pygments_lexer": "ipython3",
   "version": "3.8.11"
  }
 },
 "nbformat": 4,
 "nbformat_minor": 5
}
