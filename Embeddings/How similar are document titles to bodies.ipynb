{
 "cells": [
  {
   "cell_type": "markdown",
   "id": "ee826cbd",
   "metadata": {},
   "source": [
    "# How similar are document titles to bodies?"
   ]
  },
  {
   "cell_type": "markdown",
   "id": "1bf2c4f3",
   "metadata": {},
   "source": [
    "### Load packages, define funcs"
   ]
  },
  {
   "cell_type": "code",
   "execution_count": 22,
   "id": "0f6cc045",
   "metadata": {},
   "outputs": [],
   "source": [
    "from sentence_transformers import SentenceTransformer, util\n",
    "model = SentenceTransformer('all-MiniLM-L6-v2')\n",
    "from nltk.tokenize import sent_tokenize\n",
    "import numpy as np\n",
    "\n",
    "from tqdm import tqdm\n",
    "tqdm.pandas()\n",
    "\n",
    "import pandas as pd\n",
    "\n",
    "import boilerpy3\n",
    "from boilerpy3 import extractors\n",
    "extractor = extractors.ArticleExtractor()"
   ]
  },
  {
   "cell_type": "code",
   "execution_count": 61,
   "id": "fb372bd2",
   "metadata": {},
   "outputs": [],
   "source": [
    "pd.set_option(\"max_colwidth\", 500)"
   ]
  },
  {
   "cell_type": "code",
   "execution_count": 36,
   "id": "1485a88f",
   "metadata": {},
   "outputs": [],
   "source": [
    "def embed_things(text):\n",
    "    sents = sent_tokenize(text)\n",
    "    if len(sents) == 1:\n",
    "        embedding = model.encode(sents[0])\n",
    "    else:\n",
    "        embedding = np.mean([model.encode(x) for x in sents], axis=0)\n",
    "        \n",
    "    return embedding"
   ]
  },
  {
   "cell_type": "markdown",
   "id": "f52b48a4",
   "metadata": {},
   "source": [
    "## Prove the idea, on a single document"
   ]
  },
  {
   "cell_type": "code",
   "execution_count": null,
   "id": "2816c4b9",
   "metadata": {},
   "outputs": [],
   "source": [
    "doc = extractor.get_doc_from_url(r\"https://www.nbcnews.com/news/us-news/ohio-derailment-waste-prompts-health-concerns-far-away-rcna72987\")"
   ]
  },
  {
   "cell_type": "code",
   "execution_count": 13,
   "id": "f539c534",
   "metadata": {},
   "outputs": [],
   "source": [
    "title = doc.title\n",
    "content = doc.content"
   ]
  },
  {
   "cell_type": "code",
   "execution_count": 14,
   "id": "28a44ddc",
   "metadata": {},
   "outputs": [],
   "source": [
    "content = content.replace(\"\\n\", \" \")\n",
    "content = content.replace(\"\\xa0\", \" \")"
   ]
  },
  {
   "cell_type": "code",
   "execution_count": 38,
   "id": "c02301bc",
   "metadata": {},
   "outputs": [],
   "source": [
    "content_embedding = embed_things(content)\n",
    "title_embedding = embed_things(title)"
   ]
  },
  {
   "cell_type": "code",
   "execution_count": 43,
   "id": "44bb9be4",
   "metadata": {},
   "outputs": [
    {
     "data": {
      "text/plain": [
       "tensor([0.4838])"
      ]
     },
     "execution_count": 43,
     "metadata": {},
     "output_type": "execute_result"
    }
   ],
   "source": [
    "util.cos_sim(title_embedding, content_embedding)[0]"
   ]
  },
  {
   "cell_type": "markdown",
   "id": "9f77da97",
   "metadata": {},
   "source": [
    "## Cool, let's apply it to a full dataset"
   ]
  },
  {
   "cell_type": "code",
   "execution_count": 48,
   "id": "c149f7c1",
   "metadata": {},
   "outputs": [],
   "source": [
    "df = pd.read_csv(r\"D:\\Work\\Data\\medium_articles.csv\")\n",
    "df = df.sample(100)"
   ]
  },
  {
   "cell_type": "code",
   "execution_count": 52,
   "id": "13dca1e2",
   "metadata": {},
   "outputs": [
    {
     "name": "stderr",
     "output_type": "stream",
     "text": [
      "100%|███████████████████████████████████████████████████████████████████████████████| 100/100 [00:00<00:00, 115.75it/s]\n"
     ]
    }
   ],
   "source": [
    "df['title_emb'] = df['title'].progress_apply(embed_things)"
   ]
  },
  {
   "cell_type": "code",
   "execution_count": 53,
   "id": "4ebe6a68",
   "metadata": {},
   "outputs": [
    {
     "name": "stderr",
     "output_type": "stream",
     "text": [
      "100%|████████████████████████████████████████████████████████████████████████████████| 100/100 [00:43<00:00,  2.29it/s]\n"
     ]
    }
   ],
   "source": [
    "df['body_emb'] = df['text'].progress_apply(embed_things)"
   ]
  },
  {
   "cell_type": "code",
   "execution_count": 57,
   "id": "f0cfc20b",
   "metadata": {},
   "outputs": [],
   "source": [
    "df['title similarity to document'] = df.apply(lambda x: float(util.cos_sim(x.title_emb, x.body_emb)[0]), axis=1)"
   ]
  },
  {
   "cell_type": "code",
   "execution_count": 62,
   "id": "24a2562d",
   "metadata": {},
   "outputs": [
    {
     "data": {
      "text/html": [
       "<div>\n",
       "<style scoped>\n",
       "    .dataframe tbody tr th:only-of-type {\n",
       "        vertical-align: middle;\n",
       "    }\n",
       "\n",
       "    .dataframe tbody tr th {\n",
       "        vertical-align: top;\n",
       "    }\n",
       "\n",
       "    .dataframe thead th {\n",
       "        text-align: right;\n",
       "    }\n",
       "</style>\n",
       "<table border=\"1\" class=\"dataframe\">\n",
       "  <thead>\n",
       "    <tr style=\"text-align: right;\">\n",
       "      <th></th>\n",
       "      <th>title</th>\n",
       "      <th>url</th>\n",
       "      <th>title similarity to document</th>\n",
       "    </tr>\n",
       "  </thead>\n",
       "  <tbody>\n",
       "    <tr>\n",
       "      <th>95453</th>\n",
       "      <td>Why is wine so expensive in Thailand?</td>\n",
       "      <td>https://medium.com/@thaivisa/why-is-wine-so-expensive-in-thailand-7209d57b1b62</td>\n",
       "      <td>0.862271</td>\n",
       "    </tr>\n",
       "    <tr>\n",
       "      <th>31049</th>\n",
       "      <td>UK Transport Costs are Rising, and Only Electric Vehicles can Save the Day</td>\n",
       "      <td>https://medium.com/energitokennews/uk-transport-costs-are-rising-and-only-electric-vehicles-can-save-the-day-eb787287642b</td>\n",
       "      <td>0.787915</td>\n",
       "    </tr>\n",
       "    <tr>\n",
       "      <th>32571</th>\n",
       "      <td>Safety Climate: A Brief Overview</td>\n",
       "      <td>https://medium.com/horizonperformance/safety-climate-a-brief-overview-aaaf3556ca14</td>\n",
       "      <td>0.787591</td>\n",
       "    </tr>\n",
       "    <tr>\n",
       "      <th>18316</th>\n",
       "      <td>Important update: buy and sell digital products on Ubcoin Market!</td>\n",
       "      <td>https://medium.com/ubcoin-blog/important-update-buy-and-sell-digital-products-on-ubcoin-market-a336cecca286</td>\n",
       "      <td>0.786431</td>\n",
       "    </tr>\n",
       "    <tr>\n",
       "      <th>164997</th>\n",
       "      <td>Dead Craze Or Just Starting: Expired Domain Finders</td>\n",
       "      <td>https://medium.com/hackernoon/dead-craze-or-just-starting-expired-domain-finders-60187897c4cf</td>\n",
       "      <td>0.758347</td>\n",
       "    </tr>\n",
       "    <tr>\n",
       "      <th>...</th>\n",
       "      <td>...</td>\n",
       "      <td>...</td>\n",
       "      <td>...</td>\n",
       "    </tr>\n",
       "    <tr>\n",
       "      <th>40189</th>\n",
       "      <td>How to Host the Holidays at an Airbnb Home</td>\n",
       "      <td>https://medium.com/airbnbmag/destination-gathering-10806732c81b</td>\n",
       "      <td>0.163656</td>\n",
       "    </tr>\n",
       "    <tr>\n",
       "      <th>81689</th>\n",
       "      <td>‘The Date’</td>\n",
       "      <td>https://medium.com/@srashtigupta/the-date-a0481b8a9ee8</td>\n",
       "      <td>0.149780</td>\n",
       "    </tr>\n",
       "    <tr>\n",
       "      <th>133406</th>\n",
       "      <td>Δεν ήταν μακρινός ο Παράδεισος..</td>\n",
       "      <td>https://medium.com/@efstratiospapanis/%CE%B4%CE%B5%CE%BD-%CE%AE%CF%84%CE%B1%CE%BD-%CE%BC%CE%B1%CE%BA%CF%81%CE%B9%CE%BD%CF%8C%CF%82-%CE%BF-%CF%80%CE%B1%CF%81%CE%AC%CE%B4%CE%B5%CE%B9%CF%83%CE%BF%CF%82-9ab378d42864</td>\n",
       "      <td>0.129821</td>\n",
       "    </tr>\n",
       "    <tr>\n",
       "      <th>133303</th>\n",
       "      <td>Trad</td>\n",
       "      <td>https://medium.com/@marcialiss17/trad-7944303bd1</td>\n",
       "      <td>0.103386</td>\n",
       "    </tr>\n",
       "    <tr>\n",
       "      <th>101884</th>\n",
       "      <td>Demokrat Viruslar</td>\n",
       "      <td>https://medium.com/@alishnazarov5/s%C3%B6z%C3%BCged%C9%99n-%C5%9F%C9%99xsiyy%C9%99tl%C9%99r-iii-georgeun-d%C3%B6vr%C3%BCnd%C9%99-ya%C5%9Fad%C4%B1lar-v%C9%99-m%C3%BCbahis%C9%99-etdil%C9%99r-yax%C5%9F%C4%B1-ya-da-pis-d6778abe9425</td>\n",
       "      <td>0.047818</td>\n",
       "    </tr>\n",
       "  </tbody>\n",
       "</table>\n",
       "<p>100 rows × 3 columns</p>\n",
       "</div>"
      ],
      "text/plain": [
       "                                                                             title  \\\n",
       "95453                                        Why is wine so expensive in Thailand?   \n",
       "31049   UK Transport Costs are Rising, and Only Electric Vehicles can Save the Day   \n",
       "32571                                             Safety Climate: A Brief Overview   \n",
       "18316            Important update: buy and sell digital products on Ubcoin Market!   \n",
       "164997                         Dead Craze Or Just Starting: Expired Domain Finders   \n",
       "...                                                                            ...   \n",
       "40189                                   How to Host the Holidays at an Airbnb Home   \n",
       "81689                                                                   ‘The Date’   \n",
       "133406                                            Δεν ήταν μακρινός ο Παράδεισος..   \n",
       "133303                                                                        Trad   \n",
       "101884                                                           Demokrat Viruslar   \n",
       "\n",
       "                                                                                                                                                                                                                                        url  \\\n",
       "95453                                                                                                                                                        https://medium.com/@thaivisa/why-is-wine-so-expensive-in-thailand-7209d57b1b62   \n",
       "31049                                                                                                             https://medium.com/energitokennews/uk-transport-costs-are-rising-and-only-electric-vehicles-can-save-the-day-eb787287642b   \n",
       "32571                                                                                                                                                    https://medium.com/horizonperformance/safety-climate-a-brief-overview-aaaf3556ca14   \n",
       "18316                                                                                                                           https://medium.com/ubcoin-blog/important-update-buy-and-sell-digital-products-on-ubcoin-market-a336cecca286   \n",
       "164997                                                                                                                                        https://medium.com/hackernoon/dead-craze-or-just-starting-expired-domain-finders-60187897c4cf   \n",
       "...                                                                                                                                                                                                                                     ...   \n",
       "40189                                                                                                                                                                       https://medium.com/airbnbmag/destination-gathering-10806732c81b   \n",
       "81689                                                                                                                                                                                https://medium.com/@srashtigupta/the-date-a0481b8a9ee8   \n",
       "133406                  https://medium.com/@efstratiospapanis/%CE%B4%CE%B5%CE%BD-%CE%AE%CF%84%CE%B1%CE%BD-%CE%BC%CE%B1%CE%BA%CF%81%CE%B9%CE%BD%CF%8C%CF%82-%CE%BF-%CF%80%CE%B1%CF%81%CE%AC%CE%B4%CE%B5%CE%B9%CF%83%CE%BF%CF%82-9ab378d42864   \n",
       "133303                                                                                                                                                                                     https://medium.com/@marcialiss17/trad-7944303bd1   \n",
       "101884  https://medium.com/@alishnazarov5/s%C3%B6z%C3%BCged%C9%99n-%C5%9F%C9%99xsiyy%C9%99tl%C9%99r-iii-georgeun-d%C3%B6vr%C3%BCnd%C9%99-ya%C5%9Fad%C4%B1lar-v%C9%99-m%C3%BCbahis%C9%99-etdil%C9%99r-yax%C5%9F%C4%B1-ya-da-pis-d6778abe9425   \n",
       "\n",
       "        title similarity to document  \n",
       "95453                       0.862271  \n",
       "31049                       0.787915  \n",
       "32571                       0.787591  \n",
       "18316                       0.786431  \n",
       "164997                      0.758347  \n",
       "...                              ...  \n",
       "40189                       0.163656  \n",
       "81689                       0.149780  \n",
       "133406                      0.129821  \n",
       "133303                      0.103386  \n",
       "101884                      0.047818  \n",
       "\n",
       "[100 rows x 3 columns]"
      ]
     },
     "execution_count": 62,
     "metadata": {},
     "output_type": "execute_result"
    }
   ],
   "source": [
    "df[['title', 'url','title similarity to document']].sort_values(by='title similarity to document', ascending=False)"
   ]
  },
  {
   "cell_type": "code",
   "execution_count": null,
   "id": "2e49c99d",
   "metadata": {},
   "outputs": [],
   "source": []
  }
 ],
 "metadata": {
  "kernelspec": {
   "display_name": "nlp_swifter",
   "language": "python",
   "name": "nlp_swifter"
  },
  "language_info": {
   "codemirror_mode": {
    "name": "ipython",
    "version": 3
   },
   "file_extension": ".py",
   "mimetype": "text/x-python",
   "name": "python",
   "nbconvert_exporter": "python",
   "pygments_lexer": "ipython3",
   "version": "3.10.6"
  }
 },
 "nbformat": 4,
 "nbformat_minor": 5
}
