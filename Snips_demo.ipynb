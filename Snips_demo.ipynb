{
 "cells": [
  {
   "cell_type": "markdown",
   "id": "da67c6d3",
   "metadata": {},
   "source": [
    "# Snips Natural Language Understanding (NLU) demo\n",
    "## Load up necessery libraries etc"
   ]
  },
  {
   "cell_type": "code",
   "execution_count": 1,
   "id": "8481f989",
   "metadata": {},
   "outputs": [],
   "source": [
    "from snips_nlu import SnipsNLUEngine\n",
    "import io\n",
    "import json"
   ]
  },
  {
   "cell_type": "code",
   "execution_count": 3,
   "id": "49fbdc99",
   "metadata": {},
   "outputs": [],
   "source": [
    "# Init engine\n",
    "from snips_nlu.default_configs import CONFIG_EN\n",
    "nlu_engine = SnipsNLUEngine(config=CONFIG_EN)"
   ]
  },
  {
   "cell_type": "code",
   "execution_count": null,
   "id": "2e415b68",
   "metadata": {},
   "outputs": [],
   "source": [
    "# Load training data and fit the engine on it\n",
    "with io.open(\"flights_dataset.json\") as f:\n",
    "    sample_dataset = json.load(f)\n",
    "\n",
    "nlu_engine = nlu_engine.fit(sample_dataset)"
   ]
  },
  {
   "cell_type": "markdown",
   "id": "b5028062",
   "metadata": {},
   "source": [
    "## Request something from the engine!"
   ]
  },
  {
   "cell_type": "code",
   "execution_count": 12,
   "id": "dd25ab24",
   "metadata": {},
   "outputs": [],
   "source": [
    "text = 'book a flight from houston to dallas this weekend'\n",
    "parsing = nlu_engine.parse(text)"
   ]
  },
  {
   "cell_type": "code",
   "execution_count": 13,
   "id": "d668efe9",
   "metadata": {},
   "outputs": [
    {
     "data": {
      "text/plain": [
       "'bookFlight'"
      ]
     },
     "execution_count": 13,
     "metadata": {},
     "output_type": "execute_result"
    }
   ],
   "source": [
    "parsing[\"intent\"][\"intentName\"]"
   ]
  },
  {
   "cell_type": "markdown",
   "id": "2f8ae3bf",
   "metadata": {},
   "source": [
    "## What's in the parsing object?\n",
    "- **Input**\n",
    "- **Intent** \n",
    "    - Note how low the probability is. .4 is a common threshold for this task\n",
    "- **Slots**\n",
    "    - Think of these as the \"blanks\" you fill in, in Mad Libs\n",
    "        - These could be used to do some Hearst Pattern-esque parsing and data structuring/extraction\n",
    "    - **Time**:\n",
    "        - Relative to the time of the request\n",
    "        - If you're parsing historic documents, it might be useful to be able to feed this an absolute time to deviate from, so 'this weekend' from a document published August 1, 2020 would correctly identify 1AUG20-2AUG20, rather than ~the next weekend after you ran the script\n"
   ]
  },
  {
   "cell_type": "code",
   "execution_count": 14,
   "id": "967d1f7c",
   "metadata": {},
   "outputs": [
    {
     "data": {
      "text/plain": [
       "{'input': 'book a flight from houston to dallas this weekend',\n",
       " 'intent': {'intentName': 'bookFlight', 'probability': 0.4759766536429166},\n",
       " 'slots': [{'range': {'start': 19, 'end': 26},\n",
       "   'rawValue': 'houston',\n",
       "   'value': {'kind': 'Custom', 'value': 'houston'},\n",
       "   'entity': 'locality',\n",
       "   'slotName': 'departure'},\n",
       "  {'range': {'start': 30, 'end': 36},\n",
       "   'rawValue': 'dallas',\n",
       "   'value': {'kind': 'Custom', 'value': 'dallas'},\n",
       "   'entity': 'locality',\n",
       "   'slotName': 'destination'},\n",
       "  {'range': {'start': 37, 'end': 49},\n",
       "   'rawValue': 'this weekend',\n",
       "   'value': {'kind': 'TimeInterval',\n",
       "    'from': '2022-10-28 18:00:00 -04:00',\n",
       "    'to': '2022-10-31 00:00:00 -04:00'},\n",
       "   'entity': 'snips/datetime',\n",
       "   'slotName': 'flight_datetime'}]}"
      ]
     },
     "execution_count": 14,
     "metadata": {},
     "output_type": "execute_result"
    }
   ],
   "source": [
    "parsing"
   ]
  },
  {
   "cell_type": "code",
   "execution_count": null,
   "id": "f3271e0b",
   "metadata": {},
   "outputs": [],
   "source": []
  }
 ],
 "metadata": {
  "kernelspec": {
   "display_name": "NLP",
   "language": "python",
   "name": "nlp"
  },
  "language_info": {
   "codemirror_mode": {
    "name": "ipython",
    "version": 3
   },
   "file_extension": ".py",
   "mimetype": "text/x-python",
   "name": "python",
   "nbconvert_exporter": "python",
   "pygments_lexer": "ipython3",
   "version": "3.8.11"
  }
 },
 "nbformat": 4,
 "nbformat_minor": 5
}
