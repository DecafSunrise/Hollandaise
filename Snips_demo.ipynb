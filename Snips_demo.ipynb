{
 "cells": [
  {
   "cell_type": "code",
   "execution_count": 1,
   "id": "e0f606fe",
   "metadata": {},
   "outputs": [],
   "source": [
    "from snips_nlu import SnipsNLUEngine\n",
    "import io\n",
    "import json"
   ]
  },
  {
   "cell_type": "code",
   "execution_count": 3,
   "id": "709aec9e",
   "metadata": {},
   "outputs": [],
   "source": [
    "from snips_nlu.default_configs import CONFIG_EN\n",
    "\n",
    "nlu_engine = SnipsNLUEngine(config=CONFIG_EN)\n",
    "\n",
    "with io.open(\"flights_dataset.json\") as f:\n",
    "    sample_dataset = json.load(f)\n",
    "\n",
    "nlu_engine = nlu_engine.fit(sample_dataset)"
   ]
  },
  {
   "cell_type": "code",
   "execution_count": 8,
   "id": "929fd4b3",
   "metadata": {},
   "outputs": [],
   "source": [
    "text = 'book a flight from houston to dallas'\n",
    "parsing = nlu_engine.parse(text)"
   ]
  },
  {
   "cell_type": "code",
   "execution_count": 10,
   "id": "c513e8cb",
   "metadata": {},
   "outputs": [
    {
     "data": {
      "text/plain": [
       "'bookFlight'"
      ]
     },
     "execution_count": 10,
     "metadata": {},
     "output_type": "execute_result"
    }
   ],
   "source": [
    "parsing[\"intent\"][\"intentName\"]"
   ]
  },
  {
   "cell_type": "code",
   "execution_count": 11,
   "id": "aec5ae49",
   "metadata": {},
   "outputs": [
    {
     "data": {
      "text/plain": [
       "{'input': 'book a flight from houston to dallas',\n",
       " 'intent': {'intentName': 'bookFlight', 'probability': 0.4460365911698663},\n",
       " 'slots': [{'range': {'start': 19, 'end': 26},\n",
       "   'rawValue': 'houston',\n",
       "   'value': {'kind': 'Custom', 'value': 'houston'},\n",
       "   'entity': 'locality',\n",
       "   'slotName': 'departure'},\n",
       "  {'range': {'start': 30, 'end': 36},\n",
       "   'rawValue': 'dallas',\n",
       "   'value': {'kind': 'Custom', 'value': 'dallas'},\n",
       "   'entity': 'locality',\n",
       "   'slotName': 'destination'}]}"
      ]
     },
     "execution_count": 11,
     "metadata": {},
     "output_type": "execute_result"
    }
   ],
   "source": [
    "parsing"
   ]
  },
  {
   "cell_type": "code",
   "execution_count": null,
   "id": "182018fb",
   "metadata": {},
   "outputs": [],
   "source": []
  }
 ],
 "metadata": {
  "kernelspec": {
   "display_name": "NLP",
   "language": "python",
   "name": "nlp"
  },
  "language_info": {
   "codemirror_mode": {
    "name": "ipython",
    "version": 3
   },
   "file_extension": ".py",
   "mimetype": "text/x-python",
   "name": "python",
   "nbconvert_exporter": "python",
   "pygments_lexer": "ipython3",
   "version": "3.8.11"
  }
 },
 "nbformat": 4,
 "nbformat_minor": 5
}
