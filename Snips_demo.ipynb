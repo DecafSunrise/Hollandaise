{
 "cells": [
  {
   "cell_type": "code",
   "execution_count": 1,
   "id": "b5b59dc4",
   "metadata": {},
   "outputs": [],
   "source": [
    "from snips_nlu import SnipsNLUEngine"
   ]
  },
  {
   "cell_type": "code",
   "execution_count": 2,
   "id": "ca9f83b9",
   "metadata": {},
   "outputs": [],
   "source": [
    "import io\n",
    "import json"
   ]
  },
  {
   "cell_type": "code",
   "execution_count": 3,
   "id": "d4ed0da3",
   "metadata": {},
   "outputs": [],
   "source": [
    "from snips_nlu.default_configs import CONFIG_EN"
   ]
  },
  {
   "cell_type": "code",
   "execution_count": 4,
   "id": "5ec26955",
   "metadata": {},
   "outputs": [],
   "source": [
    "nlu_engine = SnipsNLUEngine(config=CONFIG_EN)"
   ]
  },
  {
   "cell_type": "code",
   "execution_count": 5,
   "id": "a321ce4c",
   "metadata": {},
   "outputs": [
    {
     "data": {
      "text/plain": [
       "['.git',\n",
       " '.gitignore',\n",
       " '.ipynb_checkpoints',\n",
       " 'flights_dataset.json',\n",
       " 'jenks test, explode sentence tokenized.ipynb',\n",
       " 'README.md',\n",
       " 'Untitled.ipynb']"
      ]
     },
     "execution_count": 5,
     "metadata": {},
     "output_type": "execute_result"
    }
   ],
   "source": [
    "import os\n",
    "os.listdir(os.getcwd())"
   ]
  },
  {
   "cell_type": "code",
   "execution_count": 6,
   "id": "9c536776",
   "metadata": {},
   "outputs": [],
   "source": [
    "with io.open(\"flights_dataset.json\") as f:\n",
    "    sample_dataset = json.load(f)"
   ]
  },
  {
   "cell_type": "code",
   "execution_count": 7,
   "id": "b88796f2",
   "metadata": {},
   "outputs": [],
   "source": [
    "nlu_engine = nlu_engine.fit(sample_dataset)"
   ]
  },
  {
   "cell_type": "code",
   "execution_count": 8,
   "id": "2a52e7d7",
   "metadata": {},
   "outputs": [],
   "source": [
    "text = 'book a flight from houston to dallas'"
   ]
  },
  {
   "cell_type": "code",
   "execution_count": 9,
   "id": "edd8c27c",
   "metadata": {},
   "outputs": [],
   "source": [
    "parsing = nlu_engine.parse(text)"
   ]
  },
  {
   "cell_type": "code",
   "execution_count": 10,
   "id": "977a6300",
   "metadata": {},
   "outputs": [
    {
     "data": {
      "text/plain": [
       "'bookFlight'"
      ]
     },
     "execution_count": 10,
     "metadata": {},
     "output_type": "execute_result"
    }
   ],
   "source": [
    "parsing[\"intent\"][\"intentName\"]"
   ]
  },
  {
   "cell_type": "code",
   "execution_count": 11,
   "id": "3532f9d9",
   "metadata": {},
   "outputs": [
    {
     "data": {
      "text/plain": [
       "{'input': 'book a flight from houston to dallas',\n",
       " 'intent': {'intentName': 'bookFlight', 'probability': 0.4460365911698663},\n",
       " 'slots': [{'range': {'start': 19, 'end': 26},\n",
       "   'rawValue': 'houston',\n",
       "   'value': {'kind': 'Custom', 'value': 'houston'},\n",
       "   'entity': 'locality',\n",
       "   'slotName': 'departure'},\n",
       "  {'range': {'start': 30, 'end': 36},\n",
       "   'rawValue': 'dallas',\n",
       "   'value': {'kind': 'Custom', 'value': 'dallas'},\n",
       "   'entity': 'locality',\n",
       "   'slotName': 'destination'}]}"
      ]
     },
     "execution_count": 11,
     "metadata": {},
     "output_type": "execute_result"
    }
   ],
   "source": [
    "parsing"
   ]
  },
  {
   "cell_type": "code",
   "execution_count": null,
   "id": "592fce3f",
   "metadata": {},
   "outputs": [],
   "source": []
  }
 ],
 "metadata": {
  "kernelspec": {
   "display_name": "NLP",
   "language": "python",
   "name": "nlp"
  },
  "language_info": {
   "codemirror_mode": {
    "name": "ipython",
    "version": 3
   },
   "file_extension": ".py",
   "mimetype": "text/x-python",
   "name": "python",
   "nbconvert_exporter": "python",
   "pygments_lexer": "ipython3",
   "version": "3.8.11"
  }
 },
 "nbformat": 4,
 "nbformat_minor": 5
}
