{
 "cells": [
  {
   "cell_type": "code",
   "execution_count": 19,
   "id": "6343fa4a",
   "metadata": {},
   "outputs": [],
   "source": [
    "import torch\n",
    "\n",
    "import pandas as pd\n",
    "\n",
    "from tqdm import tqdm\n",
    "\n",
    "tqdm.pandas()\n",
    "\n",
    "from sentence_transformers import SentenceTransformer, util\n",
    "\n",
    "model = SentenceTransformer('all-MiniLM-L6-v2')"
   ]
  },
  {
   "cell_type": "code",
   "execution_count": 132,
   "id": "4c041eec",
   "metadata": {},
   "outputs": [],
   "source": [
    "import yaml"
   ]
  },
  {
   "cell_type": "code",
   "execution_count": 209,
   "id": "3830c269",
   "metadata": {},
   "outputs": [],
   "source": [
    "with open('queries.yaml', 'r') as file:\n",
    "    queries = yaml.safe_load(file)"
   ]
  },
  {
   "cell_type": "code",
   "execution_count": 4,
   "id": "4e8cca27",
   "metadata": {},
   "outputs": [],
   "source": [
    "df = pd.read_csv(r\"D:\\Work\\Data\\medium_articles.csv\")"
   ]
  },
  {
   "cell_type": "code",
   "execution_count": 9,
   "id": "c5b8cb34",
   "metadata": {},
   "outputs": [],
   "source": [
    "df = df.head(50000)"
   ]
  },
  {
   "cell_type": "code",
   "execution_count": 11,
   "id": "a07e8e99",
   "metadata": {},
   "outputs": [
    {
     "name": "stderr",
     "output_type": "stream",
     "text": [
      "C:\\Users\\Danny\\AppData\\Local\\Temp\\ipykernel_13884\\2924549625.py:1: SettingWithCopyWarning: \n",
      "A value is trying to be set on a copy of a slice from a DataFrame.\n",
      "Try using .loc[row_indexer,col_indexer] = value instead\n",
      "\n",
      "See the caveats in the documentation: https://pandas.pydata.org/pandas-docs/stable/user_guide/indexing.html#returning-a-view-versus-a-copy\n",
      "  df['title'] = df['title'].astype(str)\n"
     ]
    }
   ],
   "source": [
    "df['title'] = df['title'].astype(str)"
   ]
  },
  {
   "cell_type": "code",
   "execution_count": 12,
   "id": "d25ca62f",
   "metadata": {},
   "outputs": [],
   "source": [
    "df = df[df['title'].notnull()]\n",
    "\n",
    "df['title_len'] = df['title'].apply(lambda x: len(x.split(\" \")))\n",
    "\n",
    "df = df[df['title_len']>2]"
   ]
  },
  {
   "cell_type": "code",
   "execution_count": 211,
   "id": "f8572756",
   "metadata": {},
   "outputs": [],
   "source": [
    "df = df.reset_index()"
   ]
  },
  {
   "cell_type": "code",
   "execution_count": 13,
   "id": "9a145b3a",
   "metadata": {},
   "outputs": [
    {
     "name": "stderr",
     "output_type": "stream",
     "text": [
      "100%|███████████████████████████████████████████████████████████████████████████| 50000/50000 [08:08<00:00, 102.31it/s]\n"
     ]
    }
   ],
   "source": [
    "df['emb'] = df['title'].progress_apply(model.encode)"
   ]
  },
  {
   "cell_type": "code",
   "execution_count": 212,
   "id": "8108db9f",
   "metadata": {},
   "outputs": [],
   "source": [
    "def query_df(query, k=10):\n",
    "    top_k = min(k, len(df))\n",
    "    \n",
    "    query_embedding = model.encode(query)\n",
    "    cos_scores = util.cos_sim(query_embedding, df['emb'])[0]\n",
    "    top_results = torch.topk(cos_scores, k=top_k)\n",
    "    \n",
    "#     if print==True:\n",
    "#     for score, idx in zip(top_results[0], top_results[1]):\n",
    "#         print(f\"{score:.4} -\", df['title'][int(idx)])\n",
    "        \n",
    "    return [int(x) for x in top_results[1]]\n",
    "\n",
    "def add_tags(query, tag, k=50):\n",
    "    rel_indexes = query_df(query=query, k=k)\n",
    "    df.iloc[rel_indexes]['tags'].apply(lambda x: x.append(tag))\n",
    "    \n",
    "    return df"
   ]
  },
  {
   "cell_type": "code",
   "execution_count": 177,
   "id": "0ffa2aa0",
   "metadata": {},
   "outputs": [],
   "source": []
  },
  {
   "cell_type": "code",
   "execution_count": null,
   "id": "d2138d99",
   "metadata": {},
   "outputs": [],
   "source": []
  },
  {
   "cell_type": "code",
   "execution_count": null,
   "id": "84165e36",
   "metadata": {},
   "outputs": [],
   "source": [
    "df['tags'] = [[] for x in range(0, len(df))]\n",
    "\n",
    "for tag in queries:\n",
    "    print(tag)\n",
    "    \n",
    "    for q in queries[tag]:\n",
    "        print(\"\\t\", q)\n",
    "        df = add_tags(q, tag, k=100)\n",
    "        \n",
    "df['tags'] = df['tags'].apply(lambda x: list(set(x)))"
   ]
  },
  {
   "cell_type": "raw",
   "id": "c0c751c4",
   "metadata": {},
   "source": [
    "df['tags'] = df['tags'].apply(lambda x: list(set(x)))"
   ]
  },
  {
   "cell_type": "code",
   "execution_count": 214,
   "id": "162e8f59",
   "metadata": {},
   "outputs": [
    {
     "data": {
      "text/plain": [
       "0    39570\n",
       "1     7027\n",
       "2      490\n",
       "3       40\n",
       "4        4\n",
       "5        1\n",
       "Name: tags, dtype: int64"
      ]
     },
     "execution_count": 214,
     "metadata": {},
     "output_type": "execute_result"
    }
   ],
   "source": [
    "df['tags'].str.len().value_counts()"
   ]
  },
  {
   "cell_type": "code",
   "execution_count": 219,
   "id": "5a3aead8",
   "metadata": {
    "scrolled": true
   },
   "outputs": [
    {
     "data": {
      "text/html": [
       "<div>\n",
       "<style scoped>\n",
       "    .dataframe tbody tr th:only-of-type {\n",
       "        vertical-align: middle;\n",
       "    }\n",
       "\n",
       "    .dataframe tbody tr th {\n",
       "        vertical-align: top;\n",
       "    }\n",
       "\n",
       "    .dataframe thead th {\n",
       "        text-align: right;\n",
       "    }\n",
       "</style>\n",
       "<table border=\"1\" class=\"dataframe\">\n",
       "  <thead>\n",
       "    <tr style=\"text-align: right;\">\n",
       "      <th></th>\n",
       "      <th>title_len</th>\n",
       "      <th>title</th>\n",
       "      <th>url</th>\n",
       "      <th>tags</th>\n",
       "    </tr>\n",
       "  </thead>\n",
       "  <tbody>\n",
       "    <tr>\n",
       "      <th>35722</th>\n",
       "      <td>3</td>\n",
       "      <td>Remote Proceeding Pioneers</td>\n",
       "      <td>https://medium.com/g21c/remote-proceeding-pion...</td>\n",
       "      <td>[TECH, MIL, SCI]</td>\n",
       "    </tr>\n",
       "    <tr>\n",
       "      <th>21522</th>\n",
       "      <td>3</td>\n",
       "      <td>Learning in Nature</td>\n",
       "      <td>https://medium.com/wwfhk-e/learning-in-nature-...</td>\n",
       "      <td>[SCI, ECO, SOC]</td>\n",
       "    </tr>\n",
       "    <tr>\n",
       "      <th>44303</th>\n",
       "      <td>4</td>\n",
       "      <td>Love and The Universe</td>\n",
       "      <td>https://medium.com/mindpload/love-and-the-univ...</td>\n",
       "      <td>[TECH, REL, SCI]</td>\n",
       "    </tr>\n",
       "    <tr>\n",
       "      <th>28320</th>\n",
       "      <td>4</td>\n",
       "      <td>Fighting Fire with Fire</td>\n",
       "      <td>https://medium.com/sprinter-hq/fighting-fire-w...</td>\n",
       "      <td>[MIL, HLTH, SOC]</td>\n",
       "    </tr>\n",
       "    <tr>\n",
       "      <th>44343</th>\n",
       "      <td>4</td>\n",
       "      <td>Global warming. Global warming</td>\n",
       "      <td>https://medium.com/resistance-poetry/-532a644a...</td>\n",
       "      <td>[ECO, HLTH, POL, SCI]</td>\n",
       "    </tr>\n",
       "    <tr>\n",
       "      <th>3844</th>\n",
       "      <td>3</td>\n",
       "      <td>Women and AI.</td>\n",
       "      <td>https://medium.com/carre4/women-and-ai-a8389ec...</td>\n",
       "      <td>[TECH, MIL, SOC]</td>\n",
       "    </tr>\n",
       "    <tr>\n",
       "      <th>30210</th>\n",
       "      <td>3</td>\n",
       "      <td>Knowing the Universe</td>\n",
       "      <td>https://medium.com/change-your-mind/knowing-th...</td>\n",
       "      <td>[TECH, REL, SCI]</td>\n",
       "    </tr>\n",
       "    <tr>\n",
       "      <th>10460</th>\n",
       "      <td>5</td>\n",
       "      <td>Physics, Life, and Everything Nice</td>\n",
       "      <td>https://medium.com/snipette/physics-life-and-e...</td>\n",
       "      <td>[TECH, REL, SCI]</td>\n",
       "    </tr>\n",
       "    <tr>\n",
       "      <th>18189</th>\n",
       "      <td>4</td>\n",
       "      <td>I Want to Become</td>\n",
       "      <td>https://medium.com/poets-unlimited/i-want-to-b...</td>\n",
       "      <td>[SCI, MIL, SOC]</td>\n",
       "    </tr>\n",
       "    <tr>\n",
       "      <th>42052</th>\n",
       "      <td>9</td>\n",
       "      <td>Science, Sustainability, Business, Politics, a...</td>\n",
       "      <td>https://medium.com/bioeconomy-xyz/science-sust...</td>\n",
       "      <td>[SCI, ECON, POL, SOC]</td>\n",
       "    </tr>\n",
       "  </tbody>\n",
       "</table>\n",
       "</div>"
      ],
      "text/plain": [
       "       title_len                                              title  \\\n",
       "35722          3                         Remote Proceeding Pioneers   \n",
       "21522          3                                 Learning in Nature   \n",
       "44303          4                              Love and The Universe   \n",
       "28320          4                            Fighting Fire with Fire   \n",
       "44343          4                     Global warming. Global warming   \n",
       "3844           3                                      Women and AI.   \n",
       "30210          3                               Knowing the Universe   \n",
       "10460          5                 Physics, Life, and Everything Nice   \n",
       "18189          4                                   I Want to Become   \n",
       "42052          9  Science, Sustainability, Business, Politics, a...   \n",
       "\n",
       "                                                     url  \\\n",
       "35722  https://medium.com/g21c/remote-proceeding-pion...   \n",
       "21522  https://medium.com/wwfhk-e/learning-in-nature-...   \n",
       "44303  https://medium.com/mindpload/love-and-the-univ...   \n",
       "28320  https://medium.com/sprinter-hq/fighting-fire-w...   \n",
       "44343  https://medium.com/resistance-poetry/-532a644a...   \n",
       "3844   https://medium.com/carre4/women-and-ai-a8389ec...   \n",
       "30210  https://medium.com/change-your-mind/knowing-th...   \n",
       "10460  https://medium.com/snipette/physics-life-and-e...   \n",
       "18189  https://medium.com/poets-unlimited/i-want-to-b...   \n",
       "42052  https://medium.com/bioeconomy-xyz/science-sust...   \n",
       "\n",
       "                        tags  \n",
       "35722       [TECH, MIL, SCI]  \n",
       "21522        [SCI, ECO, SOC]  \n",
       "44303       [TECH, REL, SCI]  \n",
       "28320       [MIL, HLTH, SOC]  \n",
       "44343  [ECO, HLTH, POL, SCI]  \n",
       "3844        [TECH, MIL, SOC]  \n",
       "30210       [TECH, REL, SCI]  \n",
       "10460       [TECH, REL, SCI]  \n",
       "18189        [SCI, MIL, SOC]  \n",
       "42052  [SCI, ECON, POL, SOC]  "
      ]
     },
     "execution_count": 219,
     "metadata": {},
     "output_type": "execute_result"
    }
   ],
   "source": [
    "df[df['tags'].str.len()>2][['title_len', 'title', 'url', 'tags']].sample(10)"
   ]
  },
  {
   "cell_type": "code",
   "execution_count": 226,
   "id": "e6bd474a",
   "metadata": {},
   "outputs": [
    {
     "name": "stdout",
     "output_type": "stream",
     "text": [
      "SOC: 1,447 docs\n",
      "TECH: 2,623 docs\n",
      "ECON: 1,085 docs\n",
      "POL: 614 docs\n",
      "ECO: 1,388 docs\n",
      "MIL: 528 docs\n",
      "SCI: 542 docs\n",
      "REL: 503 docs\n",
      "HLTH: 500 docs\n"
     ]
    }
   ],
   "source": [
    "for tag in queries:\n",
    "    print(f\"{tag}: {len(df[df['tags'].astype(str).str.contains(tag)]):,} docs\")"
   ]
  },
  {
   "cell_type": "code",
   "execution_count": 227,
   "id": "f542d088",
   "metadata": {},
   "outputs": [],
   "source": [
    "from sklearn.feature_extraction.text import TfidfVectorizer\n",
    "from sklearn.feature_extraction.text import ENGLISH_STOP_WORDS\n",
    "from sklearn.linear_model import LogisticRegression\n",
    "from sklearn.metrics import accuracy_score, f1_score\n",
    "from sklearn.pipeline import make_pipeline\n",
    "from sklearn.dummy import DummyClassifier\n",
    "from sklearn.ensemble import RandomForestClassifier"
   ]
  },
  {
   "cell_type": "code",
   "execution_count": 228,
   "id": "9ef25c40",
   "metadata": {},
   "outputs": [],
   "source": [
    "from sklearn.ensemble import RandomForestClassifier"
   ]
  },
  {
   "cell_type": "code",
   "execution_count": null,
   "id": "6ca22df2",
   "metadata": {},
   "outputs": [],
   "source": []
  },
  {
   "cell_type": "code",
   "execution_count": null,
   "id": "7393d65e",
   "metadata": {},
   "outputs": [],
   "source": []
  },
  {
   "cell_type": "code",
   "execution_count": null,
   "id": "1a0db0e0",
   "metadata": {},
   "outputs": [],
   "source": []
  },
  {
   "cell_type": "code",
   "execution_count": null,
   "id": "5816c5ad",
   "metadata": {},
   "outputs": [],
   "source": [
    "X, y = make_classification(n_samples=1000, n_features=4,\n",
    "    n_informative=2, n_redundant=0,\n",
    "    random_state=0, shuffle=False)"
   ]
  },
  {
   "cell_type": "code",
   "execution_count": null,
   "id": "52e44db2",
   "metadata": {},
   "outputs": [],
   "source": []
  },
  {
   "cell_type": "code",
   "execution_count": null,
   "id": "9f6e887f",
   "metadata": {},
   "outputs": [],
   "source": []
  },
  {
   "cell_type": "code",
   "execution_count": null,
   "id": "24fd12c6",
   "metadata": {},
   "outputs": [],
   "source": []
  },
  {
   "cell_type": "code",
   "execution_count": 229,
   "id": "d17566dd",
   "metadata": {},
   "outputs": [],
   "source": [
    "clf = RandomForestClassifier(max_depth=2, random_state=0)"
   ]
  },
  {
   "cell_type": "code",
   "execution_count": null,
   "id": "088ff867",
   "metadata": {},
   "outputs": [],
   "source": []
  },
  {
   "cell_type": "code",
   "execution_count": null,
   "id": "bc97ddf4",
   "metadata": {},
   "outputs": [],
   "source": []
  },
  {
   "cell_type": "code",
   "execution_count": 223,
   "id": "d5199879",
   "metadata": {},
   "outputs": [
    {
     "data": {
      "text/plain": [
       "2623"
      ]
     },
     "execution_count": 223,
     "metadata": {},
     "output_type": "execute_result"
    }
   ],
   "source": [
    "len(df[df['tags'].astype(str).str.contains('TECH')])"
   ]
  },
  {
   "cell_type": "code",
   "execution_count": null,
   "id": "2baad4f4",
   "metadata": {},
   "outputs": [],
   "source": []
  },
  {
   "cell_type": "code",
   "execution_count": 208,
   "id": "e5779c10",
   "metadata": {},
   "outputs": [
    {
     "data": {
      "text/html": [
       "<div>\n",
       "<style scoped>\n",
       "    .dataframe tbody tr th:only-of-type {\n",
       "        vertical-align: middle;\n",
       "    }\n",
       "\n",
       "    .dataframe tbody tr th {\n",
       "        vertical-align: top;\n",
       "    }\n",
       "\n",
       "    .dataframe thead th {\n",
       "        text-align: right;\n",
       "    }\n",
       "</style>\n",
       "<table border=\"1\" class=\"dataframe\">\n",
       "  <thead>\n",
       "    <tr style=\"text-align: right;\">\n",
       "      <th></th>\n",
       "      <th>title</th>\n",
       "      <th>tags</th>\n",
       "    </tr>\n",
       "  </thead>\n",
       "  <tbody>\n",
       "    <tr>\n",
       "      <th>15235</th>\n",
       "      <td>Designing a Parsing Library in Scala</td>\n",
       "      <td>[]</td>\n",
       "    </tr>\n",
       "    <tr>\n",
       "      <th>28226</th>\n",
       "      <td>The Pittsburgh Shooting Was an Attack on a Min...</td>\n",
       "      <td>[]</td>\n",
       "    </tr>\n",
       "    <tr>\n",
       "      <th>10785</th>\n",
       "      <td>What I learnt from not drinking</td>\n",
       "      <td>[]</td>\n",
       "    </tr>\n",
       "    <tr>\n",
       "      <th>30941</th>\n",
       "      <td>Beginners Guide to Kucoin Exchange</td>\n",
       "      <td>[]</td>\n",
       "    </tr>\n",
       "    <tr>\n",
       "      <th>29979</th>\n",
       "      <td>Back to School with Planet, Week 3 | 3, 2, 1, ...</td>\n",
       "      <td>[]</td>\n",
       "    </tr>\n",
       "    <tr>\n",
       "      <th>31252</th>\n",
       "      <td>Dragon Quest 1 Nintendo Switch Review</td>\n",
       "      <td>[]</td>\n",
       "    </tr>\n",
       "    <tr>\n",
       "      <th>30080</th>\n",
       "      <td>Why You Struggle To Get Job Offers as a Genera...</td>\n",
       "      <td>[]</td>\n",
       "    </tr>\n",
       "    <tr>\n",
       "      <th>1728</th>\n",
       "      <td>10 Efficient Ways to Use Python Lists</td>\n",
       "      <td>[]</td>\n",
       "    </tr>\n",
       "    <tr>\n",
       "      <th>643</th>\n",
       "      <td>What Famous Startup Taglines Can Teach You Abo...</td>\n",
       "      <td>[]</td>\n",
       "    </tr>\n",
       "    <tr>\n",
       "      <th>613</th>\n",
       "      <td>Creating a Daily Writing Habit Means Being the...</td>\n",
       "      <td>[]</td>\n",
       "    </tr>\n",
       "  </tbody>\n",
       "</table>\n",
       "</div>"
      ],
      "text/plain": [
       "                                                   title tags\n",
       "15235               Designing a Parsing Library in Scala   []\n",
       "28226  The Pittsburgh Shooting Was an Attack on a Min...   []\n",
       "10785                    What I learnt from not drinking   []\n",
       "30941                 Beginners Guide to Kucoin Exchange   []\n",
       "29979  Back to School with Planet, Week 3 | 3, 2, 1, ...   []\n",
       "31252              Dragon Quest 1 Nintendo Switch Review   []\n",
       "30080  Why You Struggle To Get Job Offers as a Genera...   []\n",
       "1728               10 Efficient Ways to Use Python Lists   []\n",
       "643    What Famous Startup Taglines Can Teach You Abo...   []\n",
       "613    Creating a Daily Writing Habit Means Being the...   []"
      ]
     },
     "execution_count": 208,
     "metadata": {},
     "output_type": "execute_result"
    }
   ],
   "source": [
    "df[df['tags'].str.len()==0][['title', 'tags']].sample(10)"
   ]
  },
  {
   "cell_type": "code",
   "execution_count": null,
   "id": "46f93f88",
   "metadata": {},
   "outputs": [],
   "source": []
  }
 ],
 "metadata": {
  "kernelspec": {
   "display_name": "nlp_swifter",
   "language": "python",
   "name": "nlp_swifter"
  },
  "language_info": {
   "codemirror_mode": {
    "name": "ipython",
    "version": 3
   },
   "file_extension": ".py",
   "mimetype": "text/x-python",
   "name": "python",
   "nbconvert_exporter": "python",
   "pygments_lexer": "ipython3",
   "version": "3.10.6"
  }
 },
 "nbformat": 4,
 "nbformat_minor": 5
}
