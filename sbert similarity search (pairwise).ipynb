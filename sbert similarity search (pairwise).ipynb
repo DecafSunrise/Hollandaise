{
 "cells": [
  {
   "cell_type": "markdown",
   "id": "32463c62",
   "metadata": {},
   "source": [
    "# Finding text with similar meaning\n",
    "https://www.sbert.net/examples/applications/paraphrase-mining/README.html\n",
    "\n",
    "## Quadratic Runtime\n",
    "- Will not scale above 10k docs"
   ]
  },
  {
   "cell_type": "code",
   "execution_count": null,
   "id": "a00c56f3",
   "metadata": {},
   "outputs": [],
   "source": [
    "from sentence_transformers import SentenceTransformer, util"
   ]
  },
  {
   "cell_type": "code",
   "execution_count": null,
   "id": "b545f8d3",
   "metadata": {},
   "outputs": [],
   "source": [
    "model = SentenceTransformer('all-MiniLM-L6-v2')"
   ]
  },
  {
   "cell_type": "code",
   "execution_count": 3,
   "id": "b0442380",
   "metadata": {},
   "outputs": [],
   "source": [
    "# Single list of sentences - Possible tens of thousands of sentences\n",
    "sentences = ['The cat sits outside',\n",
    "             'A man is playing guitar',\n",
    "             'I love pasta',\n",
    "             'The new movie is awesome',\n",
    "             'The cat plays in the garden',\n",
    "             'A woman watches TV',\n",
    "             'The new movie is so great',\n",
    "             'Do you like pizza?']"
   ]
  },
  {
   "cell_type": "code",
   "execution_count": 4,
   "id": "fdffe719",
   "metadata": {},
   "outputs": [],
   "source": [
    "paraphrases = util.paraphrase_mining(model, sentences)"
   ]
  },
  {
   "cell_type": "code",
   "execution_count": 6,
   "id": "845bb609",
   "metadata": {},
   "outputs": [
    {
     "data": {
      "text/plain": [
       "[[0.8939037322998047, 3, 6],\n",
       " [0.678788423538208, 0, 4],\n",
       " [0.5095500946044922, 2, 7],\n",
       " [0.2560485005378723, 2, 6],\n",
       " [0.2440377026796341, 2, 3],\n",
       " [0.21046358346939087, 1, 4],\n",
       " [0.19693008065223694, 3, 7],\n",
       " [0.16922728717327118, 6, 7],\n",
       " [0.13100731372833252, 0, 5],\n",
       " [0.08998323231935501, 4, 7],\n",
       " [0.06292404234409332, 4, 5],\n",
       " [0.0591120719909668, 4, 6],\n",
       " [0.04168229550123215, 5, 7],\n",
       " [0.03633042797446251, 0, 1],\n",
       " [0.03587248548865318, 2, 5],\n",
       " [0.02754369005560875, 3, 4],\n",
       " [0.025393247604370117, 0, 7],\n",
       " [0.023044727742671967, 2, 4],\n",
       " [0.011648569256067276, 1, 7],\n",
       " [0.009295197203755379, 1, 3],\n",
       " [0.008107392117381096, 0, 2],\n",
       " [-0.0028615682385861874, 0, 6],\n",
       " [-0.013609569519758224, 1, 6],\n",
       " [-0.024680089205503464, 0, 3],\n",
       " [-0.032726019620895386, 1, 5],\n",
       " [-0.036783043295145035, 1, 2],\n",
       " [-0.05019040033221245, 3, 5],\n",
       " [-0.05093101039528847, 5, 6]]"
      ]
     },
     "execution_count": 6,
     "metadata": {},
     "output_type": "execute_result"
    }
   ],
   "source": [
    "paraphrases"
   ]
  },
  {
   "cell_type": "code",
   "execution_count": 5,
   "id": "5ca62fa0",
   "metadata": {},
   "outputs": [
    {
     "name": "stdout",
     "output_type": "stream",
     "text": [
      "The new movie is awesome \t\t The new movie is so great \t\t Score: 0.8939\n",
      "The cat sits outside \t\t The cat plays in the garden \t\t Score: 0.6788\n",
      "I love pasta \t\t Do you like pizza? \t\t Score: 0.5096\n",
      "I love pasta \t\t The new movie is so great \t\t Score: 0.2560\n",
      "I love pasta \t\t The new movie is awesome \t\t Score: 0.2440\n",
      "A man is playing guitar \t\t The cat plays in the garden \t\t Score: 0.2105\n",
      "The new movie is awesome \t\t Do you like pizza? \t\t Score: 0.1969\n",
      "The new movie is so great \t\t Do you like pizza? \t\t Score: 0.1692\n",
      "The cat sits outside \t\t A woman watches TV \t\t Score: 0.1310\n",
      "The cat plays in the garden \t\t Do you like pizza? \t\t Score: 0.0900\n"
     ]
    }
   ],
   "source": [
    "for paraphrase in paraphrases[0:10]:\n",
    "    score, i, j = paraphrase\n",
    "    print(\"{} \\t\\t {} \\t\\t Score: {:.4f}\".format(sentences[i], sentences[j], score))"
   ]
  },
  {
   "cell_type": "code",
   "execution_count": null,
   "id": "827c1ecd",
   "metadata": {},
   "outputs": [],
   "source": []
  }
 ],
 "metadata": {
  "kernelspec": {
   "display_name": "NLP",
   "language": "python",
   "name": "nlp"
  },
  "language_info": {
   "codemirror_mode": {
    "name": "ipython",
    "version": 3
   },
   "file_extension": ".py",
   "mimetype": "text/x-python",
   "name": "python",
   "nbconvert_exporter": "python",
   "pygments_lexer": "ipython3",
   "version": "3.8.11"
  }
 },
 "nbformat": 4,
 "nbformat_minor": 5
}
